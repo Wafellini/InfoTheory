{
 "cells": [
  {
   "cell_type": "code",
   "execution_count": 46,
   "metadata": {},
   "outputs": [
    {
     "data": {
      "text/html": [
       "<div>\n",
       "<style scoped>\n",
       "    .dataframe tbody tr th:only-of-type {\n",
       "        vertical-align: middle;\n",
       "    }\n",
       "\n",
       "    .dataframe tbody tr th {\n",
       "        vertical-align: top;\n",
       "    }\n",
       "\n",
       "    .dataframe thead th {\n",
       "        text-align: right;\n",
       "    }\n",
       "</style>\n",
       "<table border=\"1\" class=\"dataframe\">\n",
       "  <thead>\n",
       "    <tr style=\"text-align: right;\">\n",
       "      <th></th>\n",
       "      <th>SL</th>\n",
       "      <th>SW</th>\n",
       "      <th>PL</th>\n",
       "      <th>PW</th>\n",
       "      <th>class</th>\n",
       "    </tr>\n",
       "  </thead>\n",
       "  <tbody>\n",
       "    <tr>\n",
       "      <th>0</th>\n",
       "      <td>5.1</td>\n",
       "      <td>3.5</td>\n",
       "      <td>1.4</td>\n",
       "      <td>0.2</td>\n",
       "      <td>1</td>\n",
       "    </tr>\n",
       "    <tr>\n",
       "      <th>1</th>\n",
       "      <td>4.9</td>\n",
       "      <td>3.0</td>\n",
       "      <td>1.4</td>\n",
       "      <td>0.2</td>\n",
       "      <td>1</td>\n",
       "    </tr>\n",
       "    <tr>\n",
       "      <th>2</th>\n",
       "      <td>4.7</td>\n",
       "      <td>3.2</td>\n",
       "      <td>1.3</td>\n",
       "      <td>0.2</td>\n",
       "      <td>1</td>\n",
       "    </tr>\n",
       "    <tr>\n",
       "      <th>3</th>\n",
       "      <td>4.6</td>\n",
       "      <td>3.1</td>\n",
       "      <td>1.5</td>\n",
       "      <td>0.2</td>\n",
       "      <td>1</td>\n",
       "    </tr>\n",
       "    <tr>\n",
       "      <th>4</th>\n",
       "      <td>5.0</td>\n",
       "      <td>3.6</td>\n",
       "      <td>1.4</td>\n",
       "      <td>0.2</td>\n",
       "      <td>1</td>\n",
       "    </tr>\n",
       "  </tbody>\n",
       "</table>\n",
       "</div>"
      ],
      "text/plain": [
       "    SL   SW   PL   PW  class\n",
       "0  5.1  3.5  1.4  0.2      1\n",
       "1  4.9  3.0  1.4  0.2      1\n",
       "2  4.7  3.2  1.3  0.2      1\n",
       "3  4.6  3.1  1.5  0.2      1\n",
       "4  5.0  3.6  1.4  0.2      1"
      ]
     },
     "execution_count": 46,
     "metadata": {},
     "output_type": "execute_result"
    }
   ],
   "source": [
    "import pandas as pd\n",
    "import numpy as np\n",
    "\n",
    "\n",
    "df = pd.read_csv('iris.csv')\n",
    "df.head()"
   ]
  },
  {
   "cell_type": "code",
   "execution_count": 47,
   "metadata": {},
   "outputs": [
    {
     "data": {
      "text/plain": [
       "{'all': array([  0,   1,   2,   3,   4,   5,   6,   7,   8,   9,  10,  11,  12,\n",
       "         13,  14,  15,  16,  17,  18,  19,  20,  21,  22,  23,  24,  25,\n",
       "         26,  27,  28,  29,  30,  31,  32,  33,  34,  35,  36,  37,  38,\n",
       "         39,  40,  41,  42,  43,  44,  45,  46,  47,  48,  49,  50,  51,\n",
       "         52,  53,  54,  55,  56,  57,  58,  59,  60,  61,  62,  63,  64,\n",
       "         65,  66,  67,  68,  69,  70,  71,  72,  73,  74,  75,  76,  77,\n",
       "         78,  79,  80,  81,  82,  83,  84,  85,  86,  87,  88,  89,  90,\n",
       "         91,  92,  93,  94,  95,  96,  97,  98,  99, 100, 101, 102, 103,\n",
       "        104, 105, 106, 107, 108, 109, 110, 111, 112, 113, 114, 115, 116,\n",
       "        117, 118, 119, 120, 121, 122, 123, 124, 125, 126, 127, 128, 129,\n",
       "        130, 131, 132, 133, 134, 135, 136, 137, 138, 139, 140, 141, 142,\n",
       "        143, 144, 145, 146, 147, 148, 149], dtype=int64)}"
      ]
     },
     "execution_count": 47,
     "metadata": {},
     "output_type": "execute_result"
    }
   ],
   "source": [
    "# decision attribute - last column\n",
    "decision = df.columns[-1]\n",
    "\n",
    "# all other columns are features\n",
    "features = df.columns[:-1]\n",
    "\n",
    "# add all rows indexes to the 1st bin\n",
    "bins = {\"all\": df.index.values}\n",
    "bins"
   ]
  },
  {
   "cell_type": "code",
   "execution_count": 48,
   "metadata": {},
   "outputs": [
    {
     "name": "stdout",
     "output_type": "stream",
     "text": [
      "1.584962500721156\n"
     ]
    }
   ],
   "source": [
    "def entropy(target_col):\n",
    "    elements, counts = np.unique(target_col, return_counts = True)\n",
    "    entropy = np.sum([(-counts[i]/np.sum(counts))*np.log2(counts[i]/np.sum(counts)) for i in range(len(elements))])\n",
    "    return entropy\n",
    "\n",
    "# calculate entropy for bin 1\n",
    "print(entropy(df[decision].loc[bins[\"all\"]]))"
   ]
  },
  {
   "cell_type": "code",
   "execution_count": 68,
   "metadata": {},
   "outputs": [
    {
     "name": "stdout",
     "output_type": "stream",
     "text": [
      "1.584962500721156\n"
     ]
    }
   ],
   "source": [
    "def conditional_entropy(df, target_col, bins):\n",
    "    c_entropy = 0\n",
    "    for bin in bins:\n",
    "        c_entropy += entropy(df[target_col].loc[bins[bin]]) * len(df[target_col].loc[bins[bin]])\n",
    "    return c_entropy/len(df)\n",
    "print(conditional_entropy(df, decision, bins))"
   ]
  },
  {
   "cell_type": "code",
   "execution_count": 56,
   "metadata": {},
   "outputs": [
    {
     "name": "stdout",
     "output_type": "stream",
     "text": [
      "{'SL': [4.35, 4.45, 4.55, 4.65, 4.75, 4.85, 4.95, 5.05, 5.15, 5.25, 5.35, 5.45, 5.55, 5.65, 5.75, 5.85, 5.95, 6.05, 6.15, 6.25, 6.35, 6.45, 6.55, 6.65, 6.75, 6.85, 6.95, 7.05, 7.15, 7.25, 7.35, 7.5, 7.65, 7.800000000000001], 'SW': [2.1, 2.25, 2.3499999999999996, 2.45, 2.55, 2.6500000000000004, 2.75, 2.8499999999999996, 2.95, 3.05, 3.1500000000000004, 3.25, 3.3499999999999996, 3.45, 3.55, 3.6500000000000004, 3.75, 3.8499999999999996, 3.95, 4.05, 4.15, 4.300000000000001], 'PL': [1.05, 1.15, 1.25, 1.35, 1.45, 1.55, 1.65, 1.7999999999999998, 2.45, 3.15, 3.4, 3.55, 3.6500000000000004, 3.75, 3.8499999999999996, 3.95, 4.05, 4.15, 4.25, 4.35, 4.45, 4.55, 4.65, 4.75, 4.85, 4.95, 5.05, 5.15, 5.25, 5.35, 5.45, 5.55, 5.65, 5.75, 5.85, 5.95, 6.05, 6.199999999999999, 6.35, 6.5, 6.65, 6.800000000000001], 'PW': [0.15000000000000002, 0.25, 0.35, 0.45, 0.55, 0.8, 1.05, 1.15, 1.25, 1.35, 1.45, 1.55, 1.65, 1.75, 1.85, 1.95, 2.05, 2.1500000000000004, 2.25, 2.3499999999999996, 2.45]}\n"
     ]
    }
   ],
   "source": [
    "def possible_cuts(df, features):\n",
    "    cuts = {f : [] for f in features}\n",
    "    for feature in features:\n",
    "        for i, v in enumerate(sorted(df[feature].unique())):\n",
    "            if i == 0:\n",
    "                continue\n",
    "            cuts[feature].append((v + sorted(df[feature].unique())[i-1])/2)\n",
    "    return cuts\n",
    "print(possible_cuts(df, features))"
   ]
  },
  {
   "cell_type": "code",
   "execution_count": 83,
   "metadata": {},
   "outputs": [],
   "source": [
    "def possible_splits(df, cuts : dict):\n",
    "    splits = {}\n",
    "    for feature, cuts in cuts.items():\n",
    "        splits[feature] = {}\n",
    "        for cut in cuts:\n",
    "            splits[feature][cut] = {}\n",
    "            splits[feature][cut][\"left\"] = df[df[feature] <= cut].index.values\n",
    "            splits[feature][cut][\"right\"] = df[df[feature] > cut].index.values\n",
    "    return splits\n",
    "# print(cuts_split(df, possible_cuts(df, features)))"
   ]
  },
  {
   "cell_type": "code",
   "execution_count": 70,
   "metadata": {},
   "outputs": [
    {
     "name": "stdout",
     "output_type": "stream",
     "text": [
      "('PL', 2.45, 0.6666666666666666)\n"
     ]
    }
   ],
   "source": [
    "def best_cut(df, splits, bins, features, decision, curr_entropy = 1):\n",
    "    best_feature = None\n",
    "    best_cut = None\n",
    "    curr_entropy = 1\n",
    "    for feature in features:\n",
    "        for cut in splits[feature]:\n",
    "            c_entropy = conditional_entropy(df, decision, splits[feature][cut])\n",
    "            if c_entropy < curr_entropy:\n",
    "                curr_entropy = c_entropy\n",
    "                best_feature = feature\n",
    "                best_cut = cut\n",
    "    return best_feature, best_cut, curr_entropy\n"
   ]
  },
  {
   "cell_type": "code",
   "execution_count": 80,
   "metadata": {},
   "outputs": [
    {
     "name": "stdout",
     "output_type": "stream",
     "text": [
      "{'all_PL_2.45_left_PL_2.45_left': [0, 1, 2, 3, 4, 5, 6, 7, 8, 9, 10, 11, 12, 13, 14, 15, 16, 17, 18, 19, 20, 21, 22, 23, 24, 25, 26, 27, 28, 29, 30, 31, 32, 33, 34, 35, 36, 37, 38, 39, 40, 41, 42, 43, 44, 45, 46, 47, 48, 49], 'all_PL_2.45_right_PL_2.45_left': [], 'all_PL_2.45_left_PL_2.45_right': [], 'all_PL_2.45_right_PL_2.45_right': [50, 51, 52, 53, 54, 55, 56, 57, 58, 59, 60, 61, 62, 63, 64, 65, 66, 67, 68, 69, 70, 71, 72, 73, 74, 75, 76, 77, 78, 79, 80, 81, 82, 83, 84, 85, 86, 87, 88, 89, 90, 91, 92, 93, 94, 95, 96, 97, 98, 99, 100, 101, 102, 103, 104, 105, 106, 107, 108, 109, 110, 111, 112, 113, 114, 115, 116, 117, 118, 119, 120, 121, 122, 123, 124, 125, 126, 127, 128, 129, 130, 131, 132, 133, 134, 135, 136, 137, 138, 139, 140, 141, 142, 143, 144, 145, 146, 147, 148, 149]}\n"
     ]
    }
   ],
   "source": [
    "def perform_cut(df, splits, bins, feature, value):\n",
    "    bins_left = {}\n",
    "    bins_right = {}\n",
    "    for bin in bins:\n",
    "        bins_left[f\"{bin}_{feature}_{value}_left\"] = list(np.intersect1d(bins[bin], splits[feature][value][\"left\"]))\n",
    "        bins_right[f\"{bin}_{feature}_{value}_right\"] = list(np.intersect1d(bins[bin], splits[feature][value][\"right\"]))\n",
    "    bins_together = {**bins_left, **bins_right}\n",
    "    return bins_together\n",
    "\n",
    "print(perform_cut(df, splits, bins, \"PL\", 2.45))"
   ]
  },
  {
   "cell_type": "code",
   "execution_count": 91,
   "metadata": {},
   "outputs": [
    {
     "ename": "TypeError",
     "evalue": "'numpy.float64' object is not callable",
     "output_type": "error",
     "traceback": [
      "\u001b[1;31m---------------------------------------------------------------------------\u001b[0m",
      "\u001b[1;31mTypeError\u001b[0m                                 Traceback (most recent call last)",
      "\u001b[1;32mUntitled-2.ipynb Cell 9\u001b[0m line \u001b[0;36m1\n\u001b[0;32m     <a href='vscode-notebook-cell:Untitled-2.ipynb?jupyter-notebook#X14sdW50aXRsZWQ%3D?line=13'>14</a>\u001b[0m \u001b[39mwhile\u001b[39;00m max_cuts \u001b[39m>\u001b[39m \u001b[39m0\u001b[39m \u001b[39mand\u001b[39;00m min_entropy \u001b[39m<\u001b[39m conditional_entropy(df, decision, bins):\n\u001b[0;32m     <a href='vscode-notebook-cell:Untitled-2.ipynb?jupyter-notebook#X14sdW50aXRsZWQ%3D?line=14'>15</a>\u001b[0m     max_cuts \u001b[39m-\u001b[39m\u001b[39m=\u001b[39m \u001b[39m1\u001b[39m\n\u001b[1;32m---> <a href='vscode-notebook-cell:Untitled-2.ipynb?jupyter-notebook#X14sdW50aXRsZWQ%3D?line=15'>16</a>\u001b[0m     best_feature, best_cut, curr_entropy \u001b[39m=\u001b[39m best_cut(df, splits, bins, features, decision)\n\u001b[0;32m     <a href='vscode-notebook-cell:Untitled-2.ipynb?jupyter-notebook#X14sdW50aXRsZWQ%3D?line=16'>17</a>\u001b[0m     \u001b[39mprint\u001b[39m(\u001b[39mf\u001b[39m\u001b[39m\"\u001b[39m\u001b[39mBest cut: \u001b[39m\u001b[39m{\u001b[39;00mbest_feature\u001b[39m}\u001b[39;00m\u001b[39m <= \u001b[39m\u001b[39m{\u001b[39;00mbest_cut\u001b[39m}\u001b[39;00m\u001b[39m\"\u001b[39m)\n\u001b[0;32m     <a href='vscode-notebook-cell:Untitled-2.ipynb?jupyter-notebook#X14sdW50aXRsZWQ%3D?line=17'>18</a>\u001b[0m     bins \u001b[39m=\u001b[39m perform_cut(df, splits, bins, best_feature, best_cut)\n",
      "\u001b[1;31mTypeError\u001b[0m: 'numpy.float64' object is not callable"
     ]
    }
   ],
   "source": [
    "max_cuts = 3\n",
    "min_entropy = 0.1\n",
    "\n",
    "# decision attribute - last column\n",
    "decision = df.columns[-1]\n",
    "\n",
    "# all other columns are features\n",
    "features = df.columns[:-1]\n",
    "\n",
    "# add all rows indexes to the 1st bin\n",
    "bins = {\"all\": df.index.values}\n",
    "\n",
    "\n",
    "while max_cuts > 0 and min_entropy < conditional_entropy(df, decision, bins):\n",
    "    max_cuts -= 1\n",
    "    best_feature, best_cut, curr_entropy = best_cut(df, splits, bins, features, decision)\n",
    "    print(f\"Best cut: {best_feature} <= {best_cut}\")\n",
    "    bins = perform_cut(df, splits, bins, best_feature, best_cut)\n",
    "    print(f\"Entropy: {curr_entropy}\")\n",
    "    print(f\"Bins: {bins}\")\n",
    "    print()"
   ]
  }
 ],
 "metadata": {
  "kernelspec": {
   "display_name": "venv",
   "language": "python",
   "name": "python3"
  },
  "language_info": {
   "codemirror_mode": {
    "name": "ipython",
    "version": 3
   },
   "file_extension": ".py",
   "mimetype": "text/x-python",
   "name": "python",
   "nbconvert_exporter": "python",
   "pygments_lexer": "ipython3",
   "version": "3.12.0"
  }
 },
 "nbformat": 4,
 "nbformat_minor": 2
}
